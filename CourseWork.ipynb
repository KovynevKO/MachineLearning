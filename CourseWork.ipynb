{
 "cells": [
  {
   "cell_type": "code",
   "execution_count": 1,
   "metadata": {},
   "outputs": [],
   "source": [
    "from pyspark.sql import SparkSession\n",
    "from pyspark.sql.functions import col\n",
    "import pandas as pd\n",
    "\n",
    "spark = SparkSession.builder.master(\"loc[*]\").getOrCreate()"
   ]
  },
  {
   "cell_type": "code",
   "execution_count": 2,
   "metadata": {},
   "outputs": [],
   "source": [
    "vehicles_data = spark.read.csv(\n",
    "    'course_workF.csv', header=True, sep=\";\")"
   ]
  },
  {
   "cell_type": "code",
   "execution_count": 17,
   "metadata": {},
   "outputs": [
    {
     "data": {
      "text/plain": [
       "pyspark.sql.dataframe.DataFrame"
      ]
     },
     "execution_count": 17,
     "metadata": {},
     "output_type": "execute_result"
    }
   ],
   "source": [
    "type(vehicles_data)"
   ]
  },
  {
   "cell_type": "code",
   "execution_count": 18,
   "metadata": {},
   "outputs": [
    {
     "name": "stdout",
     "output_type": "stream",
     "text": [
      "root\n",
      " |-- id: string (nullable = true)\n",
      " |-- year: string (nullable = true)\n",
      " |-- cylinders: string (nullable = true)\n",
      " |-- odometer: string (nullable = true)\n",
      " |-- condition: string (nullable = true)\n",
      " |-- drive: string (nullable = true)\n",
      " |-- fuel: string (nullable = true)\n",
      " |-- manufacturer: string (nullable = true)\n",
      " |-- model: string (nullable = true)\n",
      " |-- region: string (nullable = true)\n",
      " |-- state: string (nullable = true)\n",
      " |-- title_status: string (nullable = true)\n",
      " |-- transmission: string (nullable = true)\n",
      " |-- type: string (nullable = true)\n",
      " |-- price: string (nullable = true)\n",
      "\n"
     ]
    }
   ],
   "source": [
    "vehicles_data.printSchema()"
   ]
  },
  {
   "cell_type": "code",
   "execution_count": 3,
   "metadata": {},
   "outputs": [],
   "source": [
    "from pyspark.sql.types import IntegerType, FloatType,DoubleType\n",
    "vehicles_data = vehicles_data.withColumn(\"id\", vehicles_data[\"id\"].cast(IntegerType()))\n",
    "vehicles_data = vehicles_data.withColumn(\"year\", vehicles_data[\"year\"].cast(IntegerType()))\n",
    "vehicles_data = vehicles_data.withColumn(\"cylinders\", vehicles_data[\"cylinders\"].cast(IntegerType()))\n",
    "\n",
    "vehicles_data = vehicles_data.withColumn(\"odometer\", vehicles_data[\"odometer\"].cast(FloatType()))\n",
    "vehicles_data = vehicles_data.withColumn(\"price\", vehicles_data[\"price\"].cast(FloatType()))\n",
    "vehicles_data = vehicles_data.withColumn(\"condition\", vehicles_data[\"condition\"].cast(FloatType()))\n",
    "vehicles_data = vehicles_data.withColumn(\"drive\", vehicles_data[\"drive\"].cast(FloatType()))\n",
    "vehicles_data = vehicles_data.withColumn(\"fuel\", vehicles_data[\"fuel\"].cast(FloatType()))\n",
    "vehicles_data = vehicles_data.withColumn(\"manufacturer\", vehicles_data[\"manufacturer\"].cast(FloatType()))\n",
    "vehicles_data = vehicles_data.withColumn(\"model\", vehicles_data[\"model\"].cast(FloatType()))\n",
    "vehicles_data = vehicles_data.withColumn(\"region\", vehicles_data[\"region\"].cast(FloatType()))\n",
    "vehicles_data = vehicles_data.withColumn(\"state\", vehicles_data[\"state\"].cast(FloatType()))\n",
    "vehicles_data = vehicles_data.withColumn(\"title_status\", vehicles_data[\"title_status\"].cast(FloatType()))\n",
    "vehicles_data = vehicles_data.withColumn(\"transmission\", vehicles_data[\"transmission\"].cast(FloatType()))\n",
    "vehicles_data = vehicles_data.withColumn(\"type\", vehicles_data[\"type\"].cast(FloatType()))"
   ]
  },
  {
   "cell_type": "code",
   "execution_count": 4,
   "metadata": {},
   "outputs": [],
   "source": [
    "from pyspark.ml.feature import VectorAssembler\n",
    "features = [\n",
    "            'year',\n",
    "            'cylinders',\n",
    "            'odometer',\n",
    "            'condition', \n",
    "            'drive',\n",
    "            'fuel',\n",
    "            'manufacturer',\n",
    "            'model',\n",
    "            'region',\n",
    "            'state',\n",
    "            'title_status',\n",
    "            'transmission',\n",
    "            'type'\n",
    "           ]\n",
    "\n",
    "assembler = VectorAssembler(inputCols=features,\n",
    "                            outputCol='features')\n",
    "output = assembler.transform(vehicles_data)"
   ]
  },
  {
   "cell_type": "code",
   "execution_count": 5,
   "metadata": {},
   "outputs": [],
   "source": [
    "train, test = output.randomSplit([0.8, 0.2])"
   ]
  },
  {
   "cell_type": "code",
   "execution_count": 12,
   "metadata": {},
   "outputs": [
    {
     "name": "stdout",
     "output_type": "stream",
     "text": [
      "Точність: 62.07112610765071 %\n",
      "Wall time: 2.78 s\n"
     ]
    }
   ],
   "source": [
    "%%time\n",
    "from pyspark.ml.regression import LinearRegression\n",
    "from pyspark.ml.evaluation import RegressionEvaluator\n",
    "\n",
    "\n",
    "lr = LinearRegression(featuresCol='features',\n",
    "                        labelCol='price')\n",
    "\n",
    "model = lr.fit(train)\n",
    "\n",
    "predictions = model.transform(test)\n",
    "trainingSummary = model.summary\n",
    "\n",
    "print(f'Точність: {trainingSummary.r2*100} %')"
   ]
  },
  {
   "cell_type": "code",
   "execution_count": 7,
   "metadata": {},
   "outputs": [
    {
     "name": "stdout",
     "output_type": "stream",
     "text": [
      "RMSE: 7533.829675\n"
     ]
    }
   ],
   "source": [
    "print(\"RMSE: %f\" % trainingSummary.rootMeanSquaredError)"
   ]
  },
  {
   "cell_type": "code",
   "execution_count": 23,
   "metadata": {},
   "outputs": [
    {
     "name": "stdout",
     "output_type": "stream",
     "text": [
      "+-------+------------------+\n",
      "|  price|        prediction|\n",
      "+-------+------------------+\n",
      "|35990.0|28973.721020836383|\n",
      "|39990.0|   30997.392699313|\n",
      "|41990.0|32210.276041734265|\n",
      "| 4900.0|   8542.4719476779|\n",
      "|11500.0|11078.824437043513|\n",
      "+-------+------------------+\n",
      "\n"
     ]
    }
   ],
   "source": [
    "predictions.limit(5).select(col(\"price\"),col(\"prediction\")).show()"
   ]
  },
  {
   "cell_type": "code",
   "execution_count": 14,
   "metadata": {},
   "outputs": [
    {
     "name": "stdout",
     "output_type": "stream",
     "text": [
      "Точність: 80.7851203556598 %\n"
     ]
    }
   ],
   "source": [
    "from pyspark.ml.regression import RandomForestRegressor\n",
    "rf = RandomForestRegressor(labelCol=\"price\", featuresCol=\"features\")\n",
    "model2 = rf.fit(train)\n",
    "predictions2 = model2.transform(test)\n",
    "\n",
    "evaluator2 = RegressionEvaluator(\n",
    "    labelCol=\"price\", predictionCol=\"prediction\", metricName=\"r2\")\n",
    "r2  = evaluator2.evaluate(predictions2)\n",
    "print(f'Точність: {r2*100} %')"
   ]
  },
  {
   "cell_type": "code",
   "execution_count": 21,
   "metadata": {},
   "outputs": [
    {
     "name": "stdout",
     "output_type": "stream",
     "text": [
      "RMSE: 5401.565065347948\n"
     ]
    }
   ],
   "source": [
    "evaluator2 = RegressionEvaluator(\n",
    "    labelCol=\"price\", predictionCol=\"prediction\", metricName=\"rmse\")\n",
    "rmse  = evaluator2.evaluate(predictions2)\n",
    "print(f'RMSE: {rmse}')"
   ]
  },
  {
   "cell_type": "code",
   "execution_count": 19,
   "metadata": {},
   "outputs": [
    {
     "name": "stdout",
     "output_type": "stream",
     "text": [
      "+-------+------------------+\n",
      "|  price|        prediction|\n",
      "+-------+------------------+\n",
      "|35990.0|37187.006332916426|\n",
      "|39990.0| 36372.10273303191|\n",
      "|41990.0|  38193.8368730263|\n",
      "| 4900.0| 7458.004411965395|\n",
      "|11500.0|11904.050342544091|\n",
      "+-------+------------------+\n",
      "\n"
     ]
    }
   ],
   "source": [
    "predictions2.limit(5).select(col(\"price\"),col(\"prediction\")).show()"
   ]
  },
  {
   "cell_type": "code",
   "execution_count": 15,
   "metadata": {},
   "outputs": [
    {
     "name": "stdout",
     "output_type": "stream",
     "text": [
      "Точность: 84.99360403959551 %\n"
     ]
    }
   ],
   "source": [
    "from pyspark.ml.regression import GBTRegressor\n",
    "gf = GBTRegressor(labelCol=\"price\", featuresCol=\"features\")\n",
    "model3 = gf.fit(train)\n",
    "predictions3 = model3.transform(test)\n",
    "\n",
    "evaluator3 = RegressionEvaluator(\n",
    "    labelCol=\"price\", predictionCol=\"prediction\", metricName=\"r2\")\n",
    "r2  = evaluator3.evaluate(predictions3)\n",
    "print(f'Точность: {r2*100} %')"
   ]
  },
  {
   "cell_type": "code",
   "execution_count": 22,
   "metadata": {},
   "outputs": [
    {
     "name": "stdout",
     "output_type": "stream",
     "text": [
      "RMSE: 4773.522548377432 \n"
     ]
    }
   ],
   "source": [
    "evaluator3 = RegressionEvaluator(\n",
    "    labelCol=\"price\", predictionCol=\"prediction\", metricName=\"rmse\")\n",
    "rmse  = evaluator3.evaluate(predictions3)\n",
    "print(f'RMSE: {rmse} ')"
   ]
  },
  {
   "cell_type": "code",
   "execution_count": 20,
   "metadata": {},
   "outputs": [
    {
     "name": "stdout",
     "output_type": "stream",
     "text": [
      "+-------+------------------+\n",
      "|  price|        prediction|\n",
      "+-------+------------------+\n",
      "|35990.0| 38737.00739226091|\n",
      "|39990.0| 40067.69940295504|\n",
      "|41990.0| 40067.69940295504|\n",
      "| 4900.0| 6275.498965719492|\n",
      "|11500.0|13288.849247598364|\n",
      "+-------+------------------+\n",
      "\n"
     ]
    }
   ],
   "source": [
    "predictions3.limit(5).select(col(\"price\"),col(\"prediction\")).show()"
   ]
  },
  {
   "cell_type": "code",
   "execution_count": null,
   "metadata": {},
   "outputs": [],
   "source": []
  }
 ],
 "metadata": {
  "kernelspec": {
   "display_name": "Python 3",
   "language": "python",
   "name": "python3"
  },
  "language_info": {
   "codemirror_mode": {
    "name": "ipython",
    "version": 3
   },
   "file_extension": ".py",
   "mimetype": "text/x-python",
   "name": "python",
   "nbconvert_exporter": "python",
   "pygments_lexer": "ipython3",
   "version": "3.7.9"
  }
 },
 "nbformat": 4,
 "nbformat_minor": 4
}
